{
 "cells": [
  {
   "cell_type": "code",
   "execution_count": 1,
   "id": "c3cc0adb",
   "metadata": {},
   "outputs": [],
   "source": [
    "#!pip install numpy\n",
    "#!pip install pandas\n",
    "#!pip install nltk\n",
    "#!pip install pyspellchecker\n",
    "#!pip install python-Levenshtein"
   ]
  },
  {
   "cell_type": "code",
   "execution_count": 2,
   "id": "87714cda",
   "metadata": {},
   "outputs": [],
   "source": [
    "import re\n",
    "import string\n",
    "import nltk\n",
    "from nltk.corpus import words\n",
    "from collections import Counter\n",
    "from spellchecker import SpellChecker\n",
    "import Levenshtein"
   ]
  },
  {
   "cell_type": "code",
   "execution_count": 3,
   "id": "619d952d",
   "metadata": {},
   "outputs": [
    {
     "name": "stderr",
     "output_type": "stream",
     "text": [
      "[nltk_data] Downloading package words to C:\\Users\\Amaan\n",
      "[nltk_data]     Shaikh\\AppData\\Roaming\\nltk_data...\n",
      "[nltk_data]   Package words is already up-to-date!\n",
      "[nltk_data] Downloading package punkt to C:\\Users\\Amaan\n",
      "[nltk_data]     Shaikh\\AppData\\Roaming\\nltk_data...\n",
      "[nltk_data]   Package punkt is already up-to-date!\n"
     ]
    },
    {
     "data": {
      "text/plain": [
       "True"
      ]
     },
     "execution_count": 3,
     "metadata": {},
     "output_type": "execute_result"
    }
   ],
   "source": [
    "nltk.download('words')\n",
    "nltk.download('punkt')"
   ]
  },
  {
   "cell_type": "code",
   "execution_count": 4,
   "id": "5dbb9a53",
   "metadata": {},
   "outputs": [],
   "source": [
    "nltk_words = set(words.words())\n",
    "spell = SpellChecker()\n",
    "distance_cache = {}"
   ]
  },
  {
   "cell_type": "code",
   "execution_count": 5,
   "id": "b920052f",
   "metadata": {},
   "outputs": [],
   "source": [
    "def preprocess_text(text):\n",
    "    text = text.lower()\n",
    "    text = re.sub(f'[{re.escape(string.punctuation)}]', '', text)\n",
    "    return text"
   ]
  },
  {
   "cell_type": "code",
   "execution_count": 6,
   "id": "b7265d43",
   "metadata": {},
   "outputs": [],
   "source": [
    "def autocorrect_text(input_text):\n",
    "    words = nltk.word_tokenize(preprocess_text(input_text))\n",
    "    word_counts = Counter(words)\n",
    "    autocorrected_text = []"
   ]
  },
  {
   "cell_type": "code",
   "execution_count": 7,
   "id": "6ba9cde7",
   "metadata": {},
   "outputs": [],
   "source": [
    "def autocorrect_text(input_text):\n",
    "    words = nltk.word_tokenize(preprocess_text(input_text))\n",
    "    word_counts = Counter(words)\n",
    "    autocorrected_text = []\n",
    "\n",
    "    for word in words:\n",
    "        if word not in nltk_words:\n",
    "            suggestions = get_word_suggestions(word, word_counts)\n",
    "            if suggestions:\n",
    "                autocorrected_text.append(suggestions[0])\n",
    "            else:\n",
    "                autocorrected_text.append(get_best_spell_suggestion(word))\n",
    "        else:\n",
    "            autocorrected_text.append(word)\n",
    "\n",
    "    return ' '.join(autocorrected_text)"
   ]
  },
  {
   "cell_type": "code",
   "execution_count": 8,
   "id": "a1b5e6de",
   "metadata": {},
   "outputs": [],
   "source": [
    "def get_word_suggestions(word, word_counts):\n",
    "    suggestions = [w for w in nltk_words if w[0] == word[0] and word_distance(word, w) < 2]\n",
    "    return sorted(suggestions, key=lambda x: word_counts[x], reverse=True)"
   ]
  },
  {
   "cell_type": "code",
   "execution_count": 9,
   "id": "bed693ae",
   "metadata": {},
   "outputs": [],
   "source": [
    "def get_best_spell_suggestion(word):\n",
    "    return spell.correction(word)"
   ]
  },
  {
   "cell_type": "code",
   "execution_count": 10,
   "id": "2265a180",
   "metadata": {},
   "outputs": [],
   "source": [
    "def word_distance(word1, word2):\n",
    "    if (word1, word2) in distance_cache:\n",
    "        return distance_cache[(word1, word2)]\n",
    "\n",
    "    distance = Levenshtein.distance(word1, word2)\n",
    "    distance_cache[(word1, word2)] = distance\n",
    "    return distance"
   ]
  },
  {
   "cell_type": "code",
   "execution_count": 20,
   "id": "326553c8",
   "metadata": {},
   "outputs": [
    {
     "name": "stdout",
     "output_type": "stream",
     "text": [
      "Enter your text: bamanas are tadtier tyan puneapplas\n",
      "Autocorrected Text:\n",
      "bananas are tastier than pineapples\n"
     ]
    }
   ],
   "source": [
    "input_text = input(\"Enter your text: \")\n",
    "\n",
    "autocorrected_text = autocorrect_text(input_text)\n",
    "\n",
    "print(\"Autocorrected Text:\")\n",
    "print(autocorrected_text)\n",
    "\n",
    "#Made by Mohammed Amaan Shaikh"
   ]
  },
  {
   "cell_type": "code",
   "execution_count": null,
   "id": "de45b4f5",
   "metadata": {},
   "outputs": [],
   "source": []
  }
 ],
 "metadata": {
  "kernelspec": {
   "display_name": "Python 3 (ipykernel)",
   "language": "python",
   "name": "python3"
  },
  "language_info": {
   "codemirror_mode": {
    "name": "ipython",
    "version": 3
   },
   "file_extension": ".py",
   "mimetype": "text/x-python",
   "name": "python",
   "nbconvert_exporter": "python",
   "pygments_lexer": "ipython3",
   "version": "3.9.13"
  }
 },
 "nbformat": 4,
 "nbformat_minor": 5
}
